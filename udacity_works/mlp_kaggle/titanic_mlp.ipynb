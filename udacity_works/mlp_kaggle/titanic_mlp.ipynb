{
 "cells": [
  {
   "cell_type": "code",
   "execution_count": 1,
   "id": "d849ab49",
   "metadata": {
    "execution": {
     "iopub.execute_input": "2024-03-12T16:28:35.870036Z",
     "iopub.status.busy": "2024-03-12T16:28:35.869192Z",
     "iopub.status.idle": "2024-03-12T16:29:12.133782Z",
     "shell.execute_reply": "2024-03-12T16:29:12.132335Z"
    },
    "id": "eb4PQTie-NGf",
    "papermill": {
     "duration": 36.274618,
     "end_time": "2024-03-12T16:29:12.136700",
     "exception": false,
     "start_time": "2024-03-12T16:28:35.862082",
     "status": "completed"
    },
    "tags": []
   },
   "outputs": [],
   "source": [
    "!pip install -q torchmetrics"
   ]
  },
  {
   "cell_type": "code",
   "execution_count": 2,
   "id": "3ad5370b",
   "metadata": {
    "_cell_guid": "b1076dfc-b9ad-4769-8c92-a6c4dae69d19",
    "_uuid": "8f2839f25d086af736a60e9eeb907d3b93b6e0e5",
    "execution": {
     "iopub.execute_input": "2024-03-12T16:29:12.148030Z",
     "iopub.status.busy": "2024-03-12T16:29:12.147612Z",
     "iopub.status.idle": "2024-03-12T16:29:23.477707Z",
     "shell.execute_reply": "2024-03-12T16:29:23.475922Z"
    },
    "id": "eee46e4b",
    "papermill": {
     "duration": 11.340633,
     "end_time": "2024-03-12T16:29:23.482125",
     "exception": false,
     "start_time": "2024-03-12T16:29:12.141492",
     "status": "completed"
    },
    "tags": []
   },
   "outputs": [
    {
     "name": "stdout",
     "output_type": "stream",
     "text": [
      "/kaggle/input/titanic/train.csv\n",
      "/kaggle/input/titanic/test.csv\n",
      "/kaggle/input/titanic/gender_submission.csv\n"
     ]
    }
   ],
   "source": [
    "# This Python 3 environment comes with many helpful analytics libraries installed\n",
    "# It is defined by the kaggle/python Docker image: https://github.com/kaggle/docker-python\n",
    "# For example, here's several helpful packages to load\n",
    "\n",
    "import numpy as np # linear algebra\n",
    "import pandas as pd # data processing, CSV file I/O (e.g. pd.read_csv)\n",
    "\n",
    "import torch\n",
    "from torch.utils.data import Dataset, SubsetRandomSampler, DataLoader\n",
    "from torch import nn\n",
    "from torch import optim\n",
    "from torchvision import datasets, transforms, models\n",
    "import torchmetrics\n",
    "import matplotlib.pyplot as plt\n",
    "\n",
    "# Input data files are available in the read-only \"../input/\" directory\n",
    "# For example, running this (by clicking run or pressing Shift+Enter) will list all files under the input directory\n",
    "\n",
    "import os\n",
    "for dirname, _, filenames in os.walk('/kaggle/input'):\n",
    "    for filename in filenames:\n",
    "        print(os.path.join(dirname, filename))\n",
    "#up to 20GB to the\n",
    "# You can write current directory (/kaggle/working/) that gets preserved as output when you create a version using \"Save & Run All\"\n",
    "# You can also write temporary files to /kaggle/temp/, but they won't be saved outside of the current session"
   ]
  },
  {
   "cell_type": "code",
   "execution_count": 3,
   "id": "9891d028",
   "metadata": {
    "execution": {
     "iopub.execute_input": "2024-03-12T16:29:23.494282Z",
     "iopub.status.busy": "2024-03-12T16:29:23.493729Z",
     "iopub.status.idle": "2024-03-12T16:29:25.060531Z",
     "shell.execute_reply": "2024-03-12T16:29:25.059494Z"
    },
    "papermill": {
     "duration": 1.577034,
     "end_time": "2024-03-12T16:29:25.064238",
     "exception": false,
     "start_time": "2024-03-12T16:29:23.487204",
     "status": "completed"
    },
    "tags": []
   },
   "outputs": [
    {
     "name": "stderr",
     "output_type": "stream",
     "text": [
      "/tmp/ipykernel_18/327201593.py:9: FutureWarning: A value is trying to be set on a copy of a DataFrame or Series through chained assignment using an inplace method.\n",
      "The behavior will change in pandas 3.0. This inplace method will never work because the intermediate object on which we are setting values always behaves as a copy.\n",
      "\n",
      "For example, when doing 'df[col].method(value, inplace=True)', try using 'df.method({col: value}, inplace=True)' or df[col] = df[col].method(value) instead, to perform the operation inplace on the original object.\n",
      "\n",
      "\n",
      "  train_data['Age'].fillna(train_data['Age'].median(), inplace=True)\n",
      "/tmp/ipykernel_18/327201593.py:10: FutureWarning: A value is trying to be set on a copy of a DataFrame or Series through chained assignment using an inplace method.\n",
      "The behavior will change in pandas 3.0. This inplace method will never work because the intermediate object on which we are setting values always behaves as a copy.\n",
      "\n",
      "For example, when doing 'df[col].method(value, inplace=True)', try using 'df.method({col: value}, inplace=True)' or df[col] = df[col].method(value) instead, to perform the operation inplace on the original object.\n",
      "\n",
      "\n",
      "  test_data['Age'].fillna(test_data['Age'].median(), inplace=True)\n"
     ]
    }
   ],
   "source": [
    "from sklearn import preprocessing\n",
    "from sklearn.model_selection import train_test_split\n",
    "\n",
    "# reading in train and test data\n",
    "train_data = pd.read_csv(\"/kaggle/input/titanic/train.csv\")\n",
    "test_data = pd.read_csv(\"/kaggle/input/titanic/test.csv\")\n",
    "\n",
    "# filling unknown values with median from the same column\n",
    "train_data['Age'].fillna(train_data['Age'].median(), inplace=True)\n",
    "test_data['Age'].fillna(test_data['Age'].median(), inplace=True)"
   ]
  },
  {
   "cell_type": "code",
   "execution_count": 4,
   "id": "da7cf7b3",
   "metadata": {
    "execution": {
     "iopub.execute_input": "2024-03-12T16:29:25.079178Z",
     "iopub.status.busy": "2024-03-12T16:29:25.078682Z",
     "iopub.status.idle": "2024-03-12T16:29:25.154937Z",
     "shell.execute_reply": "2024-03-12T16:29:25.153621Z"
    },
    "id": "0690532c",
    "papermill": {
     "duration": 0.088258,
     "end_time": "2024-03-12T16:29:25.159043",
     "exception": false,
     "start_time": "2024-03-12T16:29:25.070785",
     "status": "completed"
    },
    "tags": []
   },
   "outputs": [
    {
     "name": "stdout",
     "output_type": "stream",
     "text": [
      "torch.Size([712, 12])\n"
     ]
    }
   ],
   "source": [
    "# picking the relevant features\n",
    "features = [\"Pclass\", \"Sex\", \"SibSp\", \"Parch\", \"Age\", \"Fare\", \"Embarked\"]\n",
    "columns_to_one_hot = [\"Pclass\", \"Sex\", \"Embarked\"]\n",
    "\n",
    "# one-hot encode train and test data's features\n",
    "train_data_encoded = pd.get_dummies(train_data[features], columns = columns_to_one_hot, dtype='int')\n",
    "test_data_encoded = pd.get_dummies(test_data[features], columns = columns_to_one_hot, dtype='int')\n",
    "\n",
    "# normalize everything\n",
    "# Dani: normalizálás nélkül van, hogy elszáll a tanítás, emiatt a normalizálás a \"best practice\"\n",
    "# Dani: viszont ugyanazzal a számmal normalizáld a train-t és a val-t is!\n",
    "# Dani: itt a két fit_transform külön-külön számolja ki a train és a val halmaz minimumát és maximumát, ami nem feltétlenül ugyanaz a szám\n",
    "# Dani: általában a train-re hívunk egy fit-et, és aztán mind a train-re, mind a val-ra, mind a test-re csinálunk egy transform-ot\n",
    "min_max_scaler = preprocessing.MinMaxScaler()\n",
    "min_max_scaler.fit(train_data_encoded)\n",
    "train_data_scaled = pd.DataFrame(min_max_scaler.transform(train_data_encoded))\n",
    "test_data_scaled = pd.DataFrame(min_max_scaler.transform(test_data_encoded))\n",
    "\n",
    "# splitting train_data_scaled into normalized, one-hot encoded training and validation dataset\n",
    "train_X, val_X, train_labels, val_labels = train_test_split(train_data_scaled, train_data[\"Survived\"], test_size=0.2, random_state=0)\n",
    "\n",
    "# turn everything to a tensor\n",
    "train_X = torch.tensor(train_X.values).to(torch.float32)\n",
    "train_labels = torch.tensor(train_labels.values).to(torch.float32)\n",
    "val_X = torch.tensor(val_X.values).to(torch.float32)\n",
    "val_labels = torch.tensor(val_labels.values).to(torch.float32)\n",
    "\n",
    "test_X = torch.tensor(test_data_scaled.values).to(torch.float32)\n",
    "\n",
    "print(train_X.shape)"
   ]
  },
  {
   "cell_type": "code",
   "execution_count": 5,
   "id": "cfaaca16",
   "metadata": {
    "execution": {
     "iopub.execute_input": "2024-03-12T16:29:25.174204Z",
     "iopub.status.busy": "2024-03-12T16:29:25.173686Z",
     "iopub.status.idle": "2024-03-12T16:29:25.184598Z",
     "shell.execute_reply": "2024-03-12T16:29:25.183215Z"
    },
    "id": "e2989a1f",
    "outputId": "2763b687-d68f-4fd6-ac47-52c3cc4e4de5",
    "papermill": {
     "duration": 0.021575,
     "end_time": "2024-03-12T16:29:25.187266",
     "exception": false,
     "start_time": "2024-03-12T16:29:25.165691",
     "status": "completed"
    },
    "tags": []
   },
   "outputs": [],
   "source": [
    "# defining the dataset for dataloaders\n",
    "class MyDataset(Dataset):\n",
    "    def __init__(self, tensor, labels):\n",
    "        self.X = tensor\n",
    "        self.labels = labels\n",
    "\n",
    "    def __len__(self):\n",
    "        return len(self.labels)\n",
    "\n",
    "    def __getitem__(self, idx):\n",
    "        return self.X[idx], self.labels[idx]\n",
    "\n",
    "# making the minbatches for DL\n",
    "train_ds = MyDataset(train_X, train_labels)\n",
    "val_ds = MyDataset(val_X, val_labels)\n",
    "trainloader = torch.utils.data.DataLoader(train_ds, batch_size=64, shuffle=True)\n",
    "validationloader = torch.utils.data.DataLoader(val_ds, batch_size=64, shuffle=True)"
   ]
  },
  {
   "cell_type": "code",
   "execution_count": 6,
   "id": "4e86c9cb",
   "metadata": {
    "execution": {
     "iopub.execute_input": "2024-03-12T16:29:25.199204Z",
     "iopub.status.busy": "2024-03-12T16:29:25.198691Z",
     "iopub.status.idle": "2024-03-12T16:29:25.237809Z",
     "shell.execute_reply": "2024-03-12T16:29:25.236429Z"
    },
    "id": "c7dd8896",
    "papermill": {
     "duration": 0.0489,
     "end_time": "2024-03-12T16:29:25.240966",
     "exception": false,
     "start_time": "2024-03-12T16:29:25.192066",
     "status": "completed"
    },
    "tags": []
   },
   "outputs": [],
   "source": [
    "# defining the model with 3 hidden layers, 128 nodes each\n",
    "model = nn.Sequential(\n",
    "    nn.Linear(12, 32),\n",
    "    nn.ReLU(),\n",
    "    nn.Dropout(0.3),\n",
    "    nn.Linear(32, 32),\n",
    "    nn.ReLU(),\n",
    "    nn.Dropout(0.3),\n",
    "    nn.Linear(32, 1),\n",
    "    nn.Sigmoid()\n",
    ")\n",
    "criterion = nn.BCELoss()\n",
    "acc = torchmetrics.classification.BinaryAccuracy() # pontosság számolásra\n",
    "# az AdamW gyorsabban konvergál és van benne regularizáció, hogy elkerüld az overfit-et, én őt szoktam használni :)\n",
    "# btw az SGD-t tipikusan momemntummal használják, itt egy példa: optim.SGD(model.parameters(), lr=0.001, momentum=0.9)\n",
    "optimizer = optim.AdamW(model.parameters(), lr=0.001)"
   ]
  },
  {
   "cell_type": "code",
   "execution_count": 7,
   "id": "8054701c",
   "metadata": {
    "execution": {
     "iopub.execute_input": "2024-03-12T16:29:25.253513Z",
     "iopub.status.busy": "2024-03-12T16:29:25.252964Z",
     "iopub.status.idle": "2024-03-12T16:29:33.289788Z",
     "shell.execute_reply": "2024-03-12T16:29:33.288875Z"
    },
    "id": "2a15a93b",
    "outputId": "d6b5b682-6d21-4840-ab5d-09d46dc39e18",
    "papermill": {
     "duration": 8.046263,
     "end_time": "2024-03-12T16:29:33.292299",
     "exception": false,
     "start_time": "2024-03-12T16:29:25.246036",
     "status": "completed"
    },
    "tags": []
   },
   "outputs": [
    {
     "name": "stdout",
     "output_type": "stream",
     "text": [
      "Epoch: 1/200..  Training Acc: 0.6068..  Test Acc: 0.6101.. \n",
      "Epoch: 2/200..  Training Acc: 0.6120..  Test Acc: 0.6074.. \n",
      "Epoch: 3/200..  Training Acc: 0.6137..  Test Acc: 0.6114.. \n",
      "Epoch: 4/200..  Training Acc: 0.6146..  Test Acc: 0.6127.. \n",
      "Epoch: 5/200..  Training Acc: 0.6174..  Test Acc: 0.6146.. \n",
      "Epoch: 6/200..  Training Acc: 0.6246..  Test Acc: 0.6214.. \n",
      "Epoch: 7/200..  Training Acc: 0.6319..  Test Acc: 0.6375.. \n",
      "Epoch: 8/200..  Training Acc: 0.6434..  Test Acc: 0.6521.. \n",
      "Epoch: 9/200..  Training Acc: 0.6597..  Test Acc: 0.6668.. \n",
      "Epoch: 10/200..  Training Acc: 0.6701..  Test Acc: 0.6799.. \n",
      "Epoch: 11/200..  Training Acc: 0.6791..  Test Acc: 0.6902.. \n",
      "Epoch: 12/200..  Training Acc: 0.6885..  Test Acc: 0.7000.. \n",
      "Epoch: 13/200..  Training Acc: 0.6960..  Test Acc: 0.7078.. \n",
      "Epoch: 14/200..  Training Acc: 0.7034..  Test Acc: 0.7151.. \n",
      "Epoch: 15/200..  Training Acc: 0.7107..  Test Acc: 0.7206.. \n",
      "Epoch: 16/200..  Training Acc: 0.7153..  Test Acc: 0.7252.. \n",
      "Epoch: 17/200..  Training Acc: 0.7205..  Test Acc: 0.7293.. \n",
      "Epoch: 18/200..  Training Acc: 0.7240..  Test Acc: 0.7331.. \n",
      "Epoch: 19/200..  Training Acc: 0.7277..  Test Acc: 0.7368.. \n",
      "Epoch: 20/200..  Training Acc: 0.7310..  Test Acc: 0.7407.. \n",
      "Epoch: 21/200..  Training Acc: 0.7348..  Test Acc: 0.7453.. \n",
      "Epoch: 22/200..  Training Acc: 0.7385..  Test Acc: 0.7486.. \n",
      "Epoch: 23/200..  Training Acc: 0.7418..  Test Acc: 0.7514.. \n",
      "Epoch: 24/200..  Training Acc: 0.7442..  Test Acc: 0.7542.. \n",
      "Epoch: 25/200..  Training Acc: 0.7456..  Test Acc: 0.7564.. \n",
      "Epoch: 26/200..  Training Acc: 0.7480..  Test Acc: 0.7586.. \n",
      "Epoch: 27/200..  Training Acc: 0.7503..  Test Acc: 0.7591.. \n",
      "Epoch: 28/200..  Training Acc: 0.7524..  Test Acc: 0.7601.. \n",
      "Epoch: 29/200..  Training Acc: 0.7542..  Test Acc: 0.7619.. \n",
      "Epoch: 30/200..  Training Acc: 0.7560..  Test Acc: 0.7638.. \n",
      "Epoch: 31/200..  Training Acc: 0.7579..  Test Acc: 0.7653.. \n",
      "Epoch: 32/200..  Training Acc: 0.7594..  Test Acc: 0.7671.. \n",
      "Epoch: 33/200..  Training Acc: 0.7602..  Test Acc: 0.7680.. \n",
      "Epoch: 34/200..  Training Acc: 0.7607..  Test Acc: 0.7692.. \n",
      "Epoch: 35/200..  Training Acc: 0.7617..  Test Acc: 0.7704.. \n",
      "Epoch: 36/200..  Training Acc: 0.7632..  Test Acc: 0.7713.. \n",
      "Epoch: 37/200..  Training Acc: 0.7643..  Test Acc: 0.7730.. \n",
      "Epoch: 38/200..  Training Acc: 0.7654..  Test Acc: 0.7738.. \n",
      "Epoch: 39/200..  Training Acc: 0.7666..  Test Acc: 0.7752.. \n",
      "Epoch: 40/200..  Training Acc: 0.7676..  Test Acc: 0.7760.. \n",
      "Epoch: 41/200..  Training Acc: 0.7685..  Test Acc: 0.7772.. \n",
      "Epoch: 42/200..  Training Acc: 0.7693..  Test Acc: 0.7785.. \n",
      "Epoch: 43/200..  Training Acc: 0.7704..  Test Acc: 0.7789.. \n",
      "Epoch: 44/200..  Training Acc: 0.7710..  Test Acc: 0.7801.. \n",
      "Epoch: 45/200..  Training Acc: 0.7715..  Test Acc: 0.7807.. \n",
      "Epoch: 46/200..  Training Acc: 0.7721..  Test Acc: 0.7811.. \n",
      "Epoch: 47/200..  Training Acc: 0.7727..  Test Acc: 0.7819.. \n",
      "Epoch: 48/200..  Training Acc: 0.7736..  Test Acc: 0.7826.. \n",
      "Epoch: 49/200..  Training Acc: 0.7744..  Test Acc: 0.7828.. \n",
      "Epoch: 50/200..  Training Acc: 0.7751..  Test Acc: 0.7832.. \n",
      "Epoch: 51/200..  Training Acc: 0.7759..  Test Acc: 0.7840.. \n",
      "Epoch: 52/200..  Training Acc: 0.7763..  Test Acc: 0.7851.. \n",
      "Epoch: 53/200..  Training Acc: 0.7772..  Test Acc: 0.7858.. \n",
      "Epoch: 54/200..  Training Acc: 0.7775..  Test Acc: 0.7865.. \n",
      "Epoch: 55/200..  Training Acc: 0.7782..  Test Acc: 0.7868.. \n",
      "Epoch: 56/200..  Training Acc: 0.7792..  Test Acc: 0.7875.. \n",
      "Epoch: 57/200..  Training Acc: 0.7796..  Test Acc: 0.7877.. \n",
      "Epoch: 58/200..  Training Acc: 0.7798..  Test Acc: 0.7884.. \n",
      "Epoch: 59/200..  Training Acc: 0.7808..  Test Acc: 0.7887.. \n",
      "Epoch: 60/200..  Training Acc: 0.7818..  Test Acc: 0.7895.. \n",
      "Epoch: 61/200..  Training Acc: 0.7824..  Test Acc: 0.7897.. \n",
      "Epoch: 62/200..  Training Acc: 0.7827..  Test Acc: 0.7902.. \n",
      "Epoch: 63/200..  Training Acc: 0.7833..  Test Acc: 0.7907.. \n",
      "Epoch: 64/200..  Training Acc: 0.7837..  Test Acc: 0.7912.. \n",
      "Epoch: 65/200..  Training Acc: 0.7843..  Test Acc: 0.7917.. \n",
      "Epoch: 66/200..  Training Acc: 0.7845..  Test Acc: 0.7918.. \n",
      "Epoch: 67/200..  Training Acc: 0.7848..  Test Acc: 0.7923.. \n",
      "Epoch: 68/200..  Training Acc: 0.7853..  Test Acc: 0.7927.. \n",
      "Epoch: 69/200..  Training Acc: 0.7853..  Test Acc: 0.7929.. \n",
      "Epoch: 70/200..  Training Acc: 0.7858..  Test Acc: 0.7933.. \n",
      "Epoch: 71/200..  Training Acc: 0.7864..  Test Acc: 0.7936.. \n",
      "Epoch: 72/200..  Training Acc: 0.7869..  Test Acc: 0.7937.. \n",
      "Epoch: 73/200..  Training Acc: 0.7874..  Test Acc: 0.7939.. \n",
      "Epoch: 74/200..  Training Acc: 0.7875..  Test Acc: 0.7941.. \n",
      "Epoch: 75/200..  Training Acc: 0.7879..  Test Acc: 0.7945.. \n",
      "Epoch: 76/200..  Training Acc: 0.7884..  Test Acc: 0.7946.. \n",
      "Epoch: 77/200..  Training Acc: 0.7887..  Test Acc: 0.7949.. \n",
      "Epoch: 78/200..  Training Acc: 0.7890..  Test Acc: 0.7953.. \n",
      "Epoch: 79/200..  Training Acc: 0.7894..  Test Acc: 0.7955.. \n",
      "Epoch: 80/200..  Training Acc: 0.7894..  Test Acc: 0.7958.. \n",
      "Epoch: 81/200..  Training Acc: 0.7897..  Test Acc: 0.7960.. \n",
      "Epoch: 82/200..  Training Acc: 0.7900..  Test Acc: 0.7959.. \n",
      "Epoch: 83/200..  Training Acc: 0.7902..  Test Acc: 0.7959.. \n",
      "Epoch: 84/200..  Training Acc: 0.7907..  Test Acc: 0.7962.. \n",
      "Epoch: 85/200..  Training Acc: 0.7912..  Test Acc: 0.7961.. \n",
      "Epoch: 86/200..  Training Acc: 0.7915..  Test Acc: 0.7962.. \n",
      "Epoch: 87/200..  Training Acc: 0.7920..  Test Acc: 0.7965.. \n",
      "Epoch: 88/200..  Training Acc: 0.7923..  Test Acc: 0.7967.. \n",
      "Epoch: 89/200..  Training Acc: 0.7925..  Test Acc: 0.7968.. \n",
      "Epoch: 90/200..  Training Acc: 0.7930..  Test Acc: 0.7971.. \n",
      "Epoch: 91/200..  Training Acc: 0.7933..  Test Acc: 0.7971.. \n",
      "Epoch: 92/200..  Training Acc: 0.7936..  Test Acc: 0.7969.. \n",
      "Epoch: 93/200..  Training Acc: 0.7941..  Test Acc: 0.7968.. \n",
      "Epoch: 94/200..  Training Acc: 0.7944..  Test Acc: 0.7973.. \n",
      "Epoch: 95/200..  Training Acc: 0.7947..  Test Acc: 0.7973.. \n",
      "Epoch: 96/200..  Training Acc: 0.7949..  Test Acc: 0.7975.. \n",
      "Epoch: 97/200..  Training Acc: 0.7952..  Test Acc: 0.7976.. \n",
      "Epoch: 98/200..  Training Acc: 0.7953..  Test Acc: 0.7976.. \n",
      "Epoch: 99/200..  Training Acc: 0.7958..  Test Acc: 0.7977.. \n",
      "Epoch: 100/200..  Training Acc: 0.7962..  Test Acc: 0.7979.. \n",
      "Epoch: 101/200..  Training Acc: 0.7963..  Test Acc: 0.7979.. \n",
      "Epoch: 102/200..  Training Acc: 0.7967..  Test Acc: 0.7980.. \n",
      "Epoch: 103/200..  Training Acc: 0.7972..  Test Acc: 0.7980.. \n",
      "Epoch: 104/200..  Training Acc: 0.7974..  Test Acc: 0.7980.. \n",
      "Epoch: 105/200..  Training Acc: 0.7978..  Test Acc: 0.7981.. \n",
      "Epoch: 106/200..  Training Acc: 0.7980..  Test Acc: 0.7982.. \n",
      "Epoch: 107/200..  Training Acc: 0.7983..  Test Acc: 0.7984.. \n",
      "Epoch: 108/200..  Training Acc: 0.7986..  Test Acc: 0.7985.. \n",
      "Epoch: 109/200..  Training Acc: 0.7988..  Test Acc: 0.7986.. \n",
      "Epoch: 110/200..  Training Acc: 0.7991..  Test Acc: 0.7989.. \n",
      "Epoch: 111/200..  Training Acc: 0.7993..  Test Acc: 0.7991.. \n",
      "Epoch: 112/200..  Training Acc: 0.7996..  Test Acc: 0.7991.. \n",
      "Epoch: 113/200..  Training Acc: 0.7998..  Test Acc: 0.7993.. \n",
      "Epoch: 114/200..  Training Acc: 0.8001..  Test Acc: 0.7993.. \n",
      "Epoch: 115/200..  Training Acc: 0.8004..  Test Acc: 0.7993.. \n",
      "Epoch: 116/200..  Training Acc: 0.8007..  Test Acc: 0.7994.. \n",
      "Epoch: 117/200..  Training Acc: 0.8011..  Test Acc: 0.7996.. \n",
      "Epoch: 118/200..  Training Acc: 0.8014..  Test Acc: 0.7998.. \n",
      "Epoch: 119/200..  Training Acc: 0.8017..  Test Acc: 0.7999.. \n",
      "Epoch: 120/200..  Training Acc: 0.8020..  Test Acc: 0.8000.. \n",
      "Epoch: 121/200..  Training Acc: 0.8021..  Test Acc: 0.8001.. \n",
      "Epoch: 122/200..  Training Acc: 0.8023..  Test Acc: 0.8004.. \n",
      "Epoch: 123/200..  Training Acc: 0.8027..  Test Acc: 0.8006.. \n",
      "Epoch: 124/200..  Training Acc: 0.8028..  Test Acc: 0.8007.. \n",
      "Epoch: 125/200..  Training Acc: 0.8029..  Test Acc: 0.8009.. \n",
      "Epoch: 126/200..  Training Acc: 0.8030..  Test Acc: 0.8010.. \n",
      "Epoch: 127/200..  Training Acc: 0.8031..  Test Acc: 0.8011.. \n",
      "Epoch: 128/200..  Training Acc: 0.8035..  Test Acc: 0.8012.. \n",
      "Epoch: 129/200..  Training Acc: 0.8037..  Test Acc: 0.8012.. \n",
      "Epoch: 130/200..  Training Acc: 0.8040..  Test Acc: 0.8013.. \n",
      "Epoch: 131/200..  Training Acc: 0.8042..  Test Acc: 0.8014.. \n",
      "Epoch: 132/200..  Training Acc: 0.8043..  Test Acc: 0.8015.. \n",
      "Epoch: 133/200..  Training Acc: 0.8045..  Test Acc: 0.8016.. \n",
      "Epoch: 134/200..  Training Acc: 0.8046..  Test Acc: 0.8017.. \n",
      "Epoch: 135/200..  Training Acc: 0.8049..  Test Acc: 0.8018.. \n",
      "Epoch: 136/200..  Training Acc: 0.8049..  Test Acc: 0.8019.. \n",
      "Epoch: 137/200..  Training Acc: 0.8052..  Test Acc: 0.8020.. \n",
      "Epoch: 138/200..  Training Acc: 0.8052..  Test Acc: 0.8020.. \n",
      "Epoch: 139/200..  Training Acc: 0.8054..  Test Acc: 0.8020.. \n",
      "Epoch: 140/200..  Training Acc: 0.8053..  Test Acc: 0.8022.. \n",
      "Epoch: 141/200..  Training Acc: 0.8056..  Test Acc: 0.8023.. \n",
      "Epoch: 142/200..  Training Acc: 0.8058..  Test Acc: 0.8023.. \n",
      "Epoch: 143/200..  Training Acc: 0.8060..  Test Acc: 0.8023.. \n",
      "Epoch: 144/200..  Training Acc: 0.8062..  Test Acc: 0.8025.. \n",
      "Epoch: 145/200..  Training Acc: 0.8063..  Test Acc: 0.8025.. \n",
      "Epoch: 146/200..  Training Acc: 0.8064..  Test Acc: 0.8026.. \n",
      "Epoch: 147/200..  Training Acc: 0.8066..  Test Acc: 0.8026.. \n",
      "Epoch: 148/200..  Training Acc: 0.8067..  Test Acc: 0.8027.. \n",
      "Epoch: 149/200..  Training Acc: 0.8069..  Test Acc: 0.8028.. \n",
      "Epoch: 150/200..  Training Acc: 0.8070..  Test Acc: 0.8029.. \n",
      "Epoch: 151/200..  Training Acc: 0.8071..  Test Acc: 0.8029.. \n",
      "Epoch: 152/200..  Training Acc: 0.8073..  Test Acc: 0.8029.. \n",
      "Epoch: 153/200..  Training Acc: 0.8075..  Test Acc: 0.8029.. \n",
      "Epoch: 154/200..  Training Acc: 0.8078..  Test Acc: 0.8029.. \n",
      "Epoch: 155/200..  Training Acc: 0.8080..  Test Acc: 0.8030.. \n",
      "Epoch: 156/200..  Training Acc: 0.8081..  Test Acc: 0.8032.. \n",
      "Epoch: 157/200..  Training Acc: 0.8083..  Test Acc: 0.8033.. \n",
      "Epoch: 158/200..  Training Acc: 0.8085..  Test Acc: 0.8034.. \n",
      "Epoch: 159/200..  Training Acc: 0.8087..  Test Acc: 0.8036.. \n",
      "Epoch: 160/200..  Training Acc: 0.8089..  Test Acc: 0.8036.. \n",
      "Epoch: 161/200..  Training Acc: 0.8089..  Test Acc: 0.8037.. \n",
      "Epoch: 162/200..  Training Acc: 0.8091..  Test Acc: 0.8038.. \n",
      "Epoch: 163/200..  Training Acc: 0.8092..  Test Acc: 0.8037.. \n",
      "Epoch: 164/200..  Training Acc: 0.8093..  Test Acc: 0.8037.. \n",
      "Epoch: 165/200..  Training Acc: 0.8095..  Test Acc: 0.8037.. \n",
      "Epoch: 166/200..  Training Acc: 0.8096..  Test Acc: 0.8038.. \n",
      "Epoch: 167/200..  Training Acc: 0.8096..  Test Acc: 0.8038.. \n",
      "Epoch: 168/200..  Training Acc: 0.8097..  Test Acc: 0.8040.. \n",
      "Epoch: 169/200..  Training Acc: 0.8099..  Test Acc: 0.8040.. \n",
      "Epoch: 170/200..  Training Acc: 0.8101..  Test Acc: 0.8041.. \n",
      "Epoch: 171/200..  Training Acc: 0.8103..  Test Acc: 0.8043.. \n",
      "Epoch: 172/200..  Training Acc: 0.8104..  Test Acc: 0.8045.. \n",
      "Epoch: 173/200..  Training Acc: 0.8106..  Test Acc: 0.8045.. \n",
      "Epoch: 174/200..  Training Acc: 0.8108..  Test Acc: 0.8044.. \n",
      "Epoch: 175/200..  Training Acc: 0.8110..  Test Acc: 0.8045.. \n",
      "Epoch: 176/200..  Training Acc: 0.8112..  Test Acc: 0.8045.. \n",
      "Epoch: 177/200..  Training Acc: 0.8114..  Test Acc: 0.8045.. \n",
      "Epoch: 178/200..  Training Acc: 0.8114..  Test Acc: 0.8046.. \n",
      "Epoch: 179/200..  Training Acc: 0.8115..  Test Acc: 0.8047.. \n",
      "Epoch: 180/200..  Training Acc: 0.8117..  Test Acc: 0.8048.. \n",
      "Epoch: 181/200..  Training Acc: 0.8118..  Test Acc: 0.8049.. \n",
      "Epoch: 182/200..  Training Acc: 0.8120..  Test Acc: 0.8050.. \n",
      "Epoch: 183/200..  Training Acc: 0.8122..  Test Acc: 0.8051.. \n",
      "Epoch: 184/200..  Training Acc: 0.8123..  Test Acc: 0.8051.. \n",
      "Epoch: 185/200..  Training Acc: 0.8125..  Test Acc: 0.8052.. \n",
      "Epoch: 186/200..  Training Acc: 0.8126..  Test Acc: 0.8054.. \n",
      "Epoch: 187/200..  Training Acc: 0.8128..  Test Acc: 0.8055.. \n",
      "Epoch: 188/200..  Training Acc: 0.8129..  Test Acc: 0.8056.. \n",
      "Epoch: 189/200..  Training Acc: 0.8129..  Test Acc: 0.8056.. \n",
      "Epoch: 190/200..  Training Acc: 0.8130..  Test Acc: 0.8056.. \n",
      "Epoch: 191/200..  Training Acc: 0.8131..  Test Acc: 0.8057.. \n",
      "Epoch: 192/200..  Training Acc: 0.8133..  Test Acc: 0.8058.. \n",
      "Epoch: 193/200..  Training Acc: 0.8135..  Test Acc: 0.8059.. \n",
      "Epoch: 194/200..  Training Acc: 0.8135..  Test Acc: 0.8059.. \n",
      "Epoch: 195/200..  Training Acc: 0.8136..  Test Acc: 0.8059.. \n",
      "Epoch: 196/200..  Training Acc: 0.8138..  Test Acc: 0.8059.. \n",
      "Epoch: 197/200..  Training Acc: 0.8139..  Test Acc: 0.8058.. \n",
      "Epoch: 198/200..  Training Acc: 0.8140..  Test Acc: 0.8059.. \n",
      "Epoch: 199/200..  Training Acc: 0.8141..  Test Acc: 0.8060.. \n",
      "Epoch: 200/200..  Training Acc: 0.8142..  Test Acc: 0.8061.. \n"
     ]
    }
   ],
   "source": [
    "# learning\n",
    "epochs = 200\n",
    "tot_train_loss = []\n",
    "tot_val_loss = []\n",
    "tot_train_acc = []\n",
    "tot_val_acc = []\n",
    "for e in range(epochs):\n",
    "    for passengers, label in trainloader:\n",
    "        optimizer.zero_grad()\n",
    "        output = model(passengers).squeeze(-1)\n",
    "        loss = criterion(output, label)\n",
    "        loss.backward()\n",
    "        optimizer.step()\n",
    "        tot_train_loss.append(loss.item())\n",
    "        tot_train_acc.append(acc(output, label).item())\n",
    "    else:\n",
    "        with torch.no_grad():\n",
    "            for passgrs, label in validationloader:\n",
    "                val_out = model(passgrs).squeeze(-1)\n",
    "                val_loss = criterion(val_out, label)\n",
    "                tot_val_loss.append(val_loss.item())\n",
    "                tot_val_acc.append(acc(val_out, label).item())\n",
    "    print(\"Epoch: {}/{}.. \".format(e+1, epochs),\n",
    "          \"Training Acc: {:.4f}.. \".format(sum(tot_train_acc) / len(tot_train_acc)),\n",
    "          \"Test Acc: {:.4f}.. \".format(sum(tot_val_acc) / len(tot_val_acc)))\n"
   ]
  },
  {
   "cell_type": "code",
   "execution_count": 8,
   "id": "0281df7c",
   "metadata": {
    "execution": {
     "iopub.execute_input": "2024-03-12T16:29:33.312424Z",
     "iopub.status.busy": "2024-03-12T16:29:33.311433Z",
     "iopub.status.idle": "2024-03-12T16:29:34.060526Z",
     "shell.execute_reply": "2024-03-12T16:29:34.059673Z"
    },
    "id": "24bdbc06",
    "outputId": "84b1814a-6b3b-459a-9dd9-6d24fc91a1db",
    "papermill": {
     "duration": 0.761237,
     "end_time": "2024-03-12T16:29:34.062934",
     "exception": false,
     "start_time": "2024-03-12T16:29:33.301697",
     "status": "completed"
    },
    "tags": []
   },
   "outputs": [
    {
     "data": {
      "image/png": "[encoded data removed]",
      "text/plain": [
       "<Figure size 640x480 with 1 Axes>"
      ]
     },
     "metadata": {},
     "output_type": "display_data"
    },
    {
     "data": {
      "image/png": "[encoded data removed]",
      "text/plain": [
       "<Figure size 640x480 with 1 Axes>"
      ]
     },
     "metadata": {},
     "output_type": "display_data"
    }
   ],
   "source": [
    "plt.plot(tot_train_acc)\n",
    "plt.show()\n",
    "plt.plot(tot_val_acc)\n",
    "plt.show()"
   ]
  },
  {
   "cell_type": "code",
   "execution_count": 9,
   "id": "69254344",
   "metadata": {
    "execution": {
     "iopub.execute_input": "2024-03-12T16:29:34.084523Z",
     "iopub.status.busy": "2024-03-12T16:29:34.084073Z",
     "iopub.status.idle": "2024-03-12T16:29:34.103925Z",
     "shell.execute_reply": "2024-03-12T16:29:34.102969Z"
    },
    "id": "BLLuBotsJL7Y",
    "outputId": "94876147-c266-41dc-f47c-17eb4231ead1",
    "papermill": {
     "duration": 0.034001,
     "end_time": "2024-03-12T16:29:34.106693",
     "exception": false,
     "start_time": "2024-03-12T16:29:34.072692",
     "status": "completed"
    },
    "tags": []
   },
   "outputs": [
    {
     "name": "stdout",
     "output_type": "stream",
     "text": [
      "Your submission was successfully saved!\n"
     ]
    },
    {
     "name": "stderr",
     "output_type": "stream",
     "text": [
      "/tmp/ipykernel_18/4060105946.py:3: RuntimeWarning: invalid value encountered in cast\n",
      "  output = pd.DataFrame({'PassengerId': test_data.PassengerId, 'Survived': np.round(predictions.squeeze(-1).detach().numpy()).astype(int)})\n"
     ]
    }
   ],
   "source": [
    "predictions = model(test_X)\n",
    "\n",
    "output = pd.DataFrame({'PassengerId': test_data.PassengerId, 'Survived': np.round(predictions.squeeze(-1).detach().numpy()).astype(int)})\n",
    "output.to_csv('submission.csv', index=False)\n",
    "print(\"Your submission was successfully saved!\")"
   ]
  }
 ],
 "metadata": {
  "colab": {
   "provenance": []
  },
  "kaggle": {
   "accelerator": "none",
   "dataSources": [
    {
     "databundleVersionId": 26502,
     "sourceId": 3136,
     "sourceType": "competition"
    }
   ],
   "dockerImageVersionId": 30664,
   "isGpuEnabled": false,
   "isInternetEnabled": false,
   "language": "python",
   "sourceType": "notebook"
  },
  "kernelspec": {
   "display_name": "Python 3",
   "language": "python",
   "name": "python3"
  },
  "language_info": {
   "codemirror_mode": {
    "name": "ipython",
    "version": 3
   },
   "file_extension": ".py",
   "mimetype": "text/x-python",
   "name": "python",
   "nbconvert_exporter": "python",
   "pygments_lexer": "ipython3",
   "version": "3.10.13"
  },
  "papermill": {
   "default_parameters": {},
   "duration": 62.957541,
   "end_time": "2024-03-12T16:29:35.740849",
   "environment_variables": {},
   "exception": null,
   "input_path": "__notebook__.ipynb",
   "output_path": "__notebook__.ipynb",
   "parameters": {},
   "start_time": "2024-03-12T16:28:32.783308",
   "version": "2.5.0"
  }
 },
 "nbformat": 4,
 "nbformat_minor": 5
}
