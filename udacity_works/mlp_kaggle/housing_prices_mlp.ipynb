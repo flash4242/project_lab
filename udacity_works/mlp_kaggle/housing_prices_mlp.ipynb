{
 "cells": [
  {
   "cell_type": "markdown",
   "id": "353ccb07",
   "metadata": {
    "papermill": {
     "duration": 0.006987,
     "end_time": "2024-04-16T12:31:37.509324",
     "exception": false,
     "start_time": "2024-04-16T12:31:37.502337",
     "status": "completed"
    },
    "tags": []
   },
   "source": [
    "**This notebook is an exercise in the [Introduction to Machine Learning](https://www.kaggle.com/learn/intro-to-machine-learning) course.  You can reference the tutorial at [this link](https://www.kaggle.com/alexisbcook/machine-learning-competitions).**\n",
    "\n",
    "---\n"
   ]
  },
  {
   "cell_type": "markdown",
   "id": "725e4217",
   "metadata": {
    "papermill": {
     "duration": 0.005989,
     "end_time": "2024-04-16T12:31:37.522144",
     "exception": false,
     "start_time": "2024-04-16T12:31:37.516155",
     "status": "completed"
    },
    "tags": []
   },
   "source": [
    "# Introduction\n",
    "\n",
    "In this exercise, you will create and submit predictions for a Kaggle competition. You can then improve your model (e.g. by adding features) to apply what you've learned and move up the leaderboard.\n",
    "\n",
    "Begin by running the code cell below to set up code checking and the filepaths for the dataset."
   ]
  },
  {
   "cell_type": "code",
   "execution_count": 1,
   "id": "dc9a69e6",
   "metadata": {
    "execution": {
     "iopub.execute_input": "2024-04-16T12:31:37.537003Z",
     "iopub.status.busy": "2024-04-16T12:31:37.536221Z",
     "iopub.status.idle": "2024-04-16T12:31:37.555461Z",
     "shell.execute_reply": "2024-04-16T12:31:37.554240Z"
    },
    "papermill": {
     "duration": 0.03026,
     "end_time": "2024-04-16T12:31:37.558611",
     "exception": false,
     "start_time": "2024-04-16T12:31:37.528351",
     "status": "completed"
    },
    "tags": []
   },
   "outputs": [],
   "source": [
    "# Set up filepaths\n",
    "import os\n",
    "if not os.path.exists(\"../input/train.csv\"):\n",
    "    os.symlink(\"../input/home-data-for-ml-course/train.csv\", \"../input/train.csv\")  \n",
    "    os.symlink(\"../input/home-data-for-ml-course/test.csv\", \"../input/test.csv\") "
   ]
  },
  {
   "cell_type": "markdown",
   "id": "ce787a03",
   "metadata": {
    "papermill": {
     "duration": 0.00607,
     "end_time": "2024-04-16T12:31:37.571293",
     "exception": false,
     "start_time": "2024-04-16T12:31:37.565223",
     "status": "completed"
    },
    "tags": []
   },
   "source": [
    "Here's some of the code you've written so far. Start by running it again."
   ]
  },
  {
   "cell_type": "code",
   "execution_count": 2,
   "id": "c43c6f0a",
   "metadata": {
    "execution": {
     "iopub.execute_input": "2024-04-16T12:31:37.586006Z",
     "iopub.status.busy": "2024-04-16T12:31:37.585303Z",
     "iopub.status.idle": "2024-04-16T12:31:43.557762Z",
     "shell.execute_reply": "2024-04-16T12:31:43.556553Z"
    },
    "papermill": {
     "duration": 5.983292,
     "end_time": "2024-04-16T12:31:43.560948",
     "exception": false,
     "start_time": "2024-04-16T12:31:37.577656",
     "status": "completed"
    },
    "tags": []
   },
   "outputs": [],
   "source": [
    "# Import helpful libraries\n",
    "import pandas as pd\n",
    "import torch\n",
    "import torch.optim as optim\n",
    "from sklearn.metrics import mean_absolute_error\n",
    "from sklearn import preprocessing\n",
    "from sklearn.model_selection import train_test_split"
   ]
  },
  {
   "cell_type": "code",
   "execution_count": 3,
   "id": "2486826c",
   "metadata": {
    "execution": {
     "iopub.execute_input": "2024-04-16T12:31:43.576914Z",
     "iopub.status.busy": "2024-04-16T12:31:43.575483Z",
     "iopub.status.idle": "2024-04-16T12:31:43.740098Z",
     "shell.execute_reply": "2024-04-16T12:31:43.738831Z"
    },
    "papermill": {
     "duration": 0.175334,
     "end_time": "2024-04-16T12:31:43.742906",
     "exception": false,
     "start_time": "2024-04-16T12:31:43.567572",
     "status": "completed"
    },
    "tags": []
   },
   "outputs": [
    {
     "data": {
      "text/html": [
       "<div>\n",
       "<style scoped>\n",
       "    .dataframe tbody tr th:only-of-type {\n",
       "        vertical-align: middle;\n",
       "    }\n",
       "\n",
       "    .dataframe tbody tr th {\n",
       "        vertical-align: top;\n",
       "    }\n",
       "\n",
       "    .dataframe thead th {\n",
       "        text-align: right;\n",
       "    }\n",
       "</style>\n",
       "<table border=\"1\" class=\"dataframe\">\n",
       "  <thead>\n",
       "    <tr style=\"text-align: right;\">\n",
       "      <th></th>\n",
       "      <th>MSSubClass</th>\n",
       "      <th>LotArea</th>\n",
       "      <th>OverallQual</th>\n",
       "      <th>OverallCond</th>\n",
       "      <th>YearBuilt</th>\n",
       "      <th>YearRemodAdd</th>\n",
       "      <th>1stFlrSF</th>\n",
       "      <th>2ndFlrSF</th>\n",
       "      <th>LowQualFinSF</th>\n",
       "      <th>GrLivArea</th>\n",
       "      <th>...</th>\n",
       "      <th>Fireplaces</th>\n",
       "      <th>WoodDeckSF</th>\n",
       "      <th>OpenPorchSF</th>\n",
       "      <th>EnclosedPorch</th>\n",
       "      <th>3SsnPorch</th>\n",
       "      <th>ScreenPorch</th>\n",
       "      <th>PoolArea</th>\n",
       "      <th>MiscVal</th>\n",
       "      <th>MoSold</th>\n",
       "      <th>YrSold</th>\n",
       "    </tr>\n",
       "  </thead>\n",
       "  <tbody>\n",
       "    <tr>\n",
       "      <th>0</th>\n",
       "      <td>60</td>\n",
       "      <td>8450</td>\n",
       "      <td>7</td>\n",
       "      <td>5</td>\n",
       "      <td>2003</td>\n",
       "      <td>2003</td>\n",
       "      <td>856</td>\n",
       "      <td>854</td>\n",
       "      <td>0</td>\n",
       "      <td>1710</td>\n",
       "      <td>...</td>\n",
       "      <td>0</td>\n",
       "      <td>0</td>\n",
       "      <td>61</td>\n",
       "      <td>0</td>\n",
       "      <td>0</td>\n",
       "      <td>0</td>\n",
       "      <td>0</td>\n",
       "      <td>0</td>\n",
       "      <td>2</td>\n",
       "      <td>2008</td>\n",
       "    </tr>\n",
       "    <tr>\n",
       "      <th>1</th>\n",
       "      <td>20</td>\n",
       "      <td>9600</td>\n",
       "      <td>6</td>\n",
       "      <td>8</td>\n",
       "      <td>1976</td>\n",
       "      <td>1976</td>\n",
       "      <td>1262</td>\n",
       "      <td>0</td>\n",
       "      <td>0</td>\n",
       "      <td>1262</td>\n",
       "      <td>...</td>\n",
       "      <td>1</td>\n",
       "      <td>298</td>\n",
       "      <td>0</td>\n",
       "      <td>0</td>\n",
       "      <td>0</td>\n",
       "      <td>0</td>\n",
       "      <td>0</td>\n",
       "      <td>0</td>\n",
       "      <td>5</td>\n",
       "      <td>2007</td>\n",
       "    </tr>\n",
       "    <tr>\n",
       "      <th>2</th>\n",
       "      <td>60</td>\n",
       "      <td>11250</td>\n",
       "      <td>7</td>\n",
       "      <td>5</td>\n",
       "      <td>2001</td>\n",
       "      <td>2002</td>\n",
       "      <td>920</td>\n",
       "      <td>866</td>\n",
       "      <td>0</td>\n",
       "      <td>1786</td>\n",
       "      <td>...</td>\n",
       "      <td>1</td>\n",
       "      <td>0</td>\n",
       "      <td>42</td>\n",
       "      <td>0</td>\n",
       "      <td>0</td>\n",
       "      <td>0</td>\n",
       "      <td>0</td>\n",
       "      <td>0</td>\n",
       "      <td>9</td>\n",
       "      <td>2008</td>\n",
       "    </tr>\n",
       "    <tr>\n",
       "      <th>3</th>\n",
       "      <td>70</td>\n",
       "      <td>9550</td>\n",
       "      <td>7</td>\n",
       "      <td>5</td>\n",
       "      <td>1915</td>\n",
       "      <td>1970</td>\n",
       "      <td>961</td>\n",
       "      <td>756</td>\n",
       "      <td>0</td>\n",
       "      <td>1717</td>\n",
       "      <td>...</td>\n",
       "      <td>1</td>\n",
       "      <td>0</td>\n",
       "      <td>35</td>\n",
       "      <td>272</td>\n",
       "      <td>0</td>\n",
       "      <td>0</td>\n",
       "      <td>0</td>\n",
       "      <td>0</td>\n",
       "      <td>2</td>\n",
       "      <td>2006</td>\n",
       "    </tr>\n",
       "    <tr>\n",
       "      <th>4</th>\n",
       "      <td>60</td>\n",
       "      <td>14260</td>\n",
       "      <td>8</td>\n",
       "      <td>5</td>\n",
       "      <td>2000</td>\n",
       "      <td>2000</td>\n",
       "      <td>1145</td>\n",
       "      <td>1053</td>\n",
       "      <td>0</td>\n",
       "      <td>2198</td>\n",
       "      <td>...</td>\n",
       "      <td>1</td>\n",
       "      <td>192</td>\n",
       "      <td>84</td>\n",
       "      <td>0</td>\n",
       "      <td>0</td>\n",
       "      <td>0</td>\n",
       "      <td>0</td>\n",
       "      <td>0</td>\n",
       "      <td>12</td>\n",
       "      <td>2008</td>\n",
       "    </tr>\n",
       "  </tbody>\n",
       "</table>\n",
       "<p>5 rows × 25 columns</p>\n",
       "</div>"
      ],
      "text/plain": [
       "   MSSubClass  LotArea  OverallQual  OverallCond  YearBuilt  YearRemodAdd  \\\n",
       "0          60     8450            7            5       2003          2003   \n",
       "1          20     9600            6            8       1976          1976   \n",
       "2          60    11250            7            5       2001          2002   \n",
       "3          70     9550            7            5       1915          1970   \n",
       "4          60    14260            8            5       2000          2000   \n",
       "\n",
       "   1stFlrSF  2ndFlrSF  LowQualFinSF  GrLivArea  ...  Fireplaces  WoodDeckSF  \\\n",
       "0       856       854             0       1710  ...           0           0   \n",
       "1      1262         0             0       1262  ...           1         298   \n",
       "2       920       866             0       1786  ...           1           0   \n",
       "3       961       756             0       1717  ...           1           0   \n",
       "4      1145      1053             0       2198  ...           1         192   \n",
       "\n",
       "   OpenPorchSF  EnclosedPorch  3SsnPorch  ScreenPorch  PoolArea  MiscVal  \\\n",
       "0           61              0          0            0         0        0   \n",
       "1            0              0          0            0         0        0   \n",
       "2           42              0          0            0         0        0   \n",
       "3           35            272          0            0         0        0   \n",
       "4           84              0          0            0         0        0   \n",
       "\n",
       "   MoSold  YrSold  \n",
       "0       2    2008  \n",
       "1       5    2007  \n",
       "2       9    2008  \n",
       "3       2    2006  \n",
       "4      12    2008  \n",
       "\n",
       "[5 rows x 25 columns]"
      ]
     },
     "execution_count": 3,
     "metadata": {},
     "output_type": "execute_result"
    }
   ],
   "source": [
    "# Load the data\n",
    "train_data_path = '../input/train.csv'\n",
    "test_data_path = '../input/test.csv'\n",
    "\n",
    "train_data = pd.read_csv(train_data_path)\n",
    "test_data = pd.read_csv(test_data_path)\n",
    "\n",
    "# i use all the features that don't throw error\n",
    "features=['MSSubClass', 'LotArea', 'OverallQual', 'OverallCond', 'YearBuilt', 'YearRemodAdd',\n",
    "          '1stFlrSF', '2ndFlrSF', 'LowQualFinSF', 'GrLivArea', 'FullBath', 'HalfBath', 'BedroomAbvGr',\n",
    "          'KitchenAbvGr', 'TotRmsAbvGrd', 'Fireplaces', 'WoodDeckSF', 'OpenPorchSF','EnclosedPorch',\n",
    "          '3SsnPorch', 'ScreenPorch', 'PoolArea', 'MiscVal', 'MoSold', 'YrSold'\n",
    "         ]\n",
    "\n",
    "# fill n/a values with median\n",
    "for f in features:\n",
    "    train_data[f] = train_data[f].fillna(train_data[f].median())\n",
    "    test_data[f] = test_data[f].fillna(test_data[f].median())\n",
    "    \n",
    "\n",
    "# looking at the training data\n",
    "train_data[features].head()\n",
    "\n",
    "\n",
    "# every feature is an int64 -> one hot encode not needed\n",
    "#for f in features:\n",
    "#    print(X[f].dtype)"
   ]
  },
  {
   "cell_type": "code",
   "execution_count": 4,
   "id": "edd183e6",
   "metadata": {
    "execution": {
     "iopub.execute_input": "2024-04-16T12:31:43.758440Z",
     "iopub.status.busy": "2024-04-16T12:31:43.757998Z",
     "iopub.status.idle": "2024-04-16T12:31:43.822252Z",
     "shell.execute_reply": "2024-04-16T12:31:43.821038Z"
    },
    "papermill": {
     "duration": 0.07577,
     "end_time": "2024-04-16T12:31:43.825409",
     "exception": false,
     "start_time": "2024-04-16T12:31:43.749639",
     "status": "completed"
    },
    "tags": []
   },
   "outputs": [
    {
     "name": "stdout",
     "output_type": "stream",
     "text": [
      "torch.Size([1168, 25])\n"
     ]
    }
   ],
   "source": [
    "# normalize\n",
    "# what to do with SALEPRICE - scale too? - yes, apply log transform, then inverse log = exp at the end\n",
    "min_max_scaler = preprocessing.MinMaxScaler()\n",
    "min_max_scaler.fit(train_data[features])\n",
    "train_data_scaled = pd.DataFrame(min_max_scaler.transform(train_data[features]))\n",
    "test_data_scaled = pd.DataFrame(min_max_scaler.transform(test_data[features]))\n",
    "\n",
    "# !! egyben nem lehet transzformálni a train_data-val, mert azzal meg a test_data-t nem lehetne\n",
    "train_labels_scaled = min_max_scaler.fit_transform(train_data['SalePrice'].values.reshape(-1, 1))\n",
    "\n",
    "\n",
    "# looking at scaled data\n",
    "#train_data_scaled.head()\n",
    "#print(train_labels_scaled[-110:-100])\n",
    "\n",
    "# splitting train_data_scaled into normalized training and validation dataset\n",
    "train_X, val_X, train_labels, val_labels = train_test_split(train_data_scaled, train_labels_scaled, test_size=0.2, random_state=0)\n",
    "\n",
    "# turn everything to a tensor\n",
    "train_X =      torch.tensor(train_X.values).to(torch.float32)\n",
    "train_labels = torch.tensor(train_labels).to(torch.float32)\n",
    "val_X =        torch.tensor(val_X.values).to(torch.float32)\n",
    "val_labels =   torch.tensor(val_labels).to(torch.float32)\n",
    "\n",
    "test_X =       torch.tensor(test_data_scaled.values).to(torch.float32)\n",
    "\n",
    "print(train_X.shape)"
   ]
  },
  {
   "cell_type": "code",
   "execution_count": 5,
   "id": "548bd90f",
   "metadata": {
    "execution": {
     "iopub.execute_input": "2024-04-16T12:31:43.842334Z",
     "iopub.status.busy": "2024-04-16T12:31:43.841152Z",
     "iopub.status.idle": "2024-04-16T12:31:43.850946Z",
     "shell.execute_reply": "2024-04-16T12:31:43.849748Z"
    },
    "papermill": {
     "duration": 0.02161,
     "end_time": "2024-04-16T12:31:43.854090",
     "exception": false,
     "start_time": "2024-04-16T12:31:43.832480",
     "status": "completed"
    },
    "tags": []
   },
   "outputs": [],
   "source": [
    "from torch.utils.data import Dataset, SubsetRandomSampler, DataLoader\n",
    "# defining the dataset for dataloaders\n",
    "class MyDataset(Dataset):\n",
    "    def __init__(self, tensor, labels):\n",
    "        self.X = tensor\n",
    "        self.labels = labels\n",
    "\n",
    "    def __len__(self):\n",
    "        return len(self.labels)\n",
    "\n",
    "    def __getitem__(self, idx):\n",
    "        return self.X[idx], self.labels[idx]\n",
    "\n",
    "# making the minbatches\n",
    "train_ds = MyDataset(train_X, train_labels)\n",
    "val_ds = MyDataset(val_X, val_labels)\n",
    "batch_s = 40\n",
    "trainloader = torch.utils.data.DataLoader(train_ds, batch_size=batch_s, shuffle=True)\n",
    "validationloader = torch.utils.data.DataLoader(val_ds, batch_size=batch_s, shuffle=True)"
   ]
  },
  {
   "cell_type": "code",
   "execution_count": 6,
   "id": "340e7f1f",
   "metadata": {
    "execution": {
     "iopub.execute_input": "2024-04-16T12:31:43.869830Z",
     "iopub.status.busy": "2024-04-16T12:31:43.869014Z",
     "iopub.status.idle": "2024-04-16T12:31:43.891352Z",
     "shell.execute_reply": "2024-04-16T12:31:43.889741Z"
    },
    "papermill": {
     "duration": 0.033397,
     "end_time": "2024-04-16T12:31:43.894289",
     "exception": false,
     "start_time": "2024-04-16T12:31:43.860892",
     "status": "completed"
    },
    "tags": []
   },
   "outputs": [
    {
     "name": "stdout",
     "output_type": "stream",
     "text": [
      "Net(\n",
      "  (fc1): Linear(in_features=25, out_features=128, bias=True)\n",
      "  (fc2): Linear(in_features=128, out_features=1, bias=True)\n",
      "  (dropout): Dropout(p=0.2, inplace=False)\n",
      ")\n"
     ]
    }
   ],
   "source": [
    "import torch.nn as nn\n",
    "import torch.nn.functional as F\n",
    "# Define an MLP\n",
    "class Net(nn.Module):\n",
    "    def __init__(self):\n",
    "        super(Net, self).__init__()\n",
    "        hidden_1 = 128\n",
    "        hidden_2 = 8\n",
    "        self.fc1 = nn.Linear(train_X.shape[1], hidden_1)\n",
    "        self.fc2 = nn.Linear(hidden_1, 1)\n",
    "        #self.fc3 = nn.Linear(hidden_2, 1)\n",
    "        self.dropout = nn.Dropout(0.2)\n",
    "    \n",
    "    def forward(self, x):\n",
    "        x = self.dropout(F.relu(self.fc1(x)))\n",
    "        x = self.fc2(x)\n",
    "        return x\n",
    "\n",
    "# initialize the NN\n",
    "model = Net()\n",
    "print(model)\n",
    "\n",
    "# rf_val_mae = mean_absolute_error(rf_val_predictions, val_y)\n",
    "# print(\"Validation MAE for Random Forest Model: {:,.0f}\".format(rf_val_mae))"
   ]
  },
  {
   "cell_type": "code",
   "execution_count": 7,
   "id": "d9b895ad",
   "metadata": {
    "execution": {
     "iopub.execute_input": "2024-04-16T12:31:43.911129Z",
     "iopub.status.busy": "2024-04-16T12:31:43.910652Z",
     "iopub.status.idle": "2024-04-16T12:31:49.730623Z",
     "shell.execute_reply": "2024-04-16T12:31:49.729629Z"
    },
    "papermill": {
     "duration": 5.831751,
     "end_time": "2024-04-16T12:31:49.733547",
     "exception": false,
     "start_time": "2024-04-16T12:31:43.901796",
     "status": "completed"
    },
    "tags": []
   },
   "outputs": [],
   "source": [
    "from torchmetrics.regression import MeanAbsoluteError\n",
    "# define MAE loss function and optimizer\n",
    "criterion = nn.L1Loss()\n",
    "optimizer = optim.AdamW(model.parameters(), lr=0.05)\n",
    "\n",
    "# to calc MAE\n",
    "acc = MeanAbsoluteError()"
   ]
  },
  {
   "cell_type": "code",
   "execution_count": 8,
   "id": "7c7a3787",
   "metadata": {
    "execution": {
     "iopub.execute_input": "2024-04-16T12:31:49.750671Z",
     "iopub.status.busy": "2024-04-16T12:31:49.749762Z",
     "iopub.status.idle": "2024-04-16T12:32:59.925362Z",
     "shell.execute_reply": "2024-04-16T12:32:59.923935Z"
    },
    "papermill": {
     "duration": 70.187231,
     "end_time": "2024-04-16T12:32:59.928248",
     "exception": false,
     "start_time": "2024-04-16T12:31:49.741017",
     "status": "completed"
    },
    "tags": []
   },
   "outputs": [
    {
     "name": "stderr",
     "output_type": "stream",
     "text": [
      "/opt/conda/lib/python3.10/site-packages/torch/nn/modules/loss.py:101: UserWarning: Using a target size (torch.Size([40, 1])) that is different to the input size (torch.Size([40])). This will likely lead to incorrect results due to broadcasting. Please ensure they have the same size.\n",
      "  return F.l1_loss(input, target, reduction=self.reduction)\n",
      "/opt/conda/lib/python3.10/site-packages/torch/nn/modules/loss.py:101: UserWarning: Using a target size (torch.Size([8, 1])) that is different to the input size (torch.Size([8])). This will likely lead to incorrect results due to broadcasting. Please ensure they have the same size.\n",
      "  return F.l1_loss(input, target, reduction=self.reduction)\n",
      "/opt/conda/lib/python3.10/site-packages/torch/nn/modules/loss.py:101: UserWarning: Using a target size (torch.Size([12, 1])) that is different to the input size (torch.Size([12])). This will likely lead to incorrect results due to broadcasting. Please ensure they have the same size.\n",
      "  return F.l1_loss(input, target, reduction=self.reduction)\n"
     ]
    },
    {
     "name": "stdout",
     "output_type": "stream",
     "text": [
      "Validation loss decreased (inf --> 0.074323).  Saving model ...\n",
      "Epoch: 50/1000..  Training MAE: 0.0808..  Test MAE: 0.0782.. \n",
      "Epoch: 100/1000..  Training MAE: 0.0797..  Test MAE: 0.0789.. \n",
      "Epoch: 150/1000..  Training MAE: 0.0793..  Test MAE: 0.0786.. \n",
      "Epoch: 200/1000..  Training MAE: 0.0792..  Test MAE: 0.0786.. \n",
      "Epoch: 250/1000..  Training MAE: 0.0791..  Test MAE: 0.0786.. \n",
      "Epoch: 300/1000..  Training MAE: 0.0790..  Test MAE: 0.0784.. \n",
      "Epoch: 350/1000..  Training MAE: 0.0790..  Test MAE: 0.0784.. \n",
      "Epoch: 400/1000..  Training MAE: 0.0789..  Test MAE: 0.0784.. \n",
      "Epoch: 450/1000..  Training MAE: 0.0789..  Test MAE: 0.0784.. \n",
      "Epoch: 500/1000..  Training MAE: 0.0788..  Test MAE: 0.0784.. \n",
      "Epoch: 550/1000..  Training MAE: 0.0788..  Test MAE: 0.0784.. \n",
      "Epoch: 600/1000..  Training MAE: 0.0788..  Test MAE: 0.0784.. \n",
      "Epoch: 650/1000..  Training MAE: 0.0788..  Test MAE: 0.0784.. \n",
      "Epoch: 700/1000..  Training MAE: 0.0788..  Test MAE: 0.0784.. \n",
      "Epoch: 750/1000..  Training MAE: 0.0788..  Test MAE: 0.0784.. \n",
      "Epoch: 800/1000..  Training MAE: 0.0788..  Test MAE: 0.0785.. \n",
      "Epoch: 850/1000..  Training MAE: 0.0788..  Test MAE: 0.0785.. \n",
      "Epoch: 900/1000..  Training MAE: 0.0787..  Test MAE: 0.0785.. \n",
      "Epoch: 950/1000..  Training MAE: 0.0787..  Test MAE: 0.0785.. \n",
      "Epoch: 1000/1000..  Training MAE: 0.0787..  Test MAE: 0.0785.. \n"
     ]
    }
   ],
   "source": [
    "import numpy as np\n",
    "# learning\n",
    "epochs = 1000\n",
    "tot_train_loss = []\n",
    "tot_val_loss = []\n",
    "tot_train_MAE = []\n",
    "tot_val_MAE = []\n",
    "valid_loss_min = np.Inf\n",
    "\n",
    "for e in range(epochs):\n",
    "    for house, price in trainloader:\n",
    "        optimizer.zero_grad()\n",
    "        output = model(house).squeeze(-1)\n",
    "        loss = criterion(output, price)\n",
    "        loss.backward()\n",
    "        optimizer.step()\n",
    "        tot_train_loss.append(loss.item())\n",
    "        tot_train_MAE.append(acc(output.view(-1), price.view(-1)).item())\n",
    "    else:\n",
    "        with torch.no_grad():\n",
    "            for v_house, v_price in validationloader:\n",
    "                val_out = model(v_house).squeeze(-1)\n",
    "                val_loss = criterion(val_out, v_price)\n",
    "                tot_val_loss.append(val_loss.item())\n",
    "                tot_val_MAE.append(acc(val_out.view(-1), v_price.view(-1)).item())\n",
    "                \n",
    "            # calculate average losses\n",
    "            train_loss = sum(tot_train_MAE) / len(tot_train_MAE)\n",
    "            valid_loss = sum(tot_val_MAE) / len(tot_val_MAE)\n",
    "\n",
    "\n",
    "            # save model if validation loss has decreased\n",
    "            if valid_loss <= valid_loss_min:\n",
    "                print('Validation loss decreased ({:.6f} --> {:.6f}).  Saving model ...'.format(\n",
    "                valid_loss_min,\n",
    "                valid_loss))\n",
    "                torch.save(model.state_dict(), 'model_housing_prices.pt')\n",
    "                valid_loss_min = valid_loss\n",
    "                \n",
    "    if (e+1)%50==0:\n",
    "        print(\"Epoch: {}/{}.. \".format(e+1, epochs),\n",
    "          \"Training MAE: {:.4f}.. \".format(train_loss),\n",
    "          \"Test MAE: {:.4f}.. \".format(valid_loss))"
   ]
  },
  {
   "cell_type": "markdown",
   "id": "51364852",
   "metadata": {
    "papermill": {
     "duration": 0.008662,
     "end_time": "2024-04-16T12:32:59.946052",
     "exception": false,
     "start_time": "2024-04-16T12:32:59.937390",
     "status": "completed"
    },
    "tags": []
   },
   "source": [
    "Now, read the file of \"test\" data, and apply your model to make predictions."
   ]
  },
  {
   "cell_type": "code",
   "execution_count": 9,
   "id": "6182091d",
   "metadata": {
    "execution": {
     "iopub.execute_input": "2024-04-16T12:32:59.966518Z",
     "iopub.status.busy": "2024-04-16T12:32:59.966076Z",
     "iopub.status.idle": "2024-04-16T12:33:00.626171Z",
     "shell.execute_reply": "2024-04-16T12:33:00.624953Z"
    },
    "papermill": {
     "duration": 0.673845,
     "end_time": "2024-04-16T12:33:00.628973",
     "exception": false,
     "start_time": "2024-04-16T12:32:59.955128",
     "status": "completed"
    },
    "tags": []
   },
   "outputs": [
    {
     "data": {
      "image/png": "[encoded data removed]",
      "text/plain": [
       "<Figure size 640x480 with 1 Axes>"
      ]
     },
     "metadata": {},
     "output_type": "display_data"
    },
    {
     "data": {
      "image/png": "[encoded data removed]",
      "text/plain": [
       "<Figure size 640x480 with 1 Axes>"
      ]
     },
     "metadata": {},
     "output_type": "display_data"
    }
   ],
   "source": [
    "import matplotlib.pyplot as plt\n",
    "plt.plot(tot_train_MAE)\n",
    "plt.show()\n",
    "plt.plot(tot_val_MAE)\n",
    "plt.show()"
   ]
  },
  {
   "cell_type": "markdown",
   "id": "6f796854",
   "metadata": {
    "papermill": {
     "duration": 0.010189,
     "end_time": "2024-04-16T12:33:00.649433",
     "exception": false,
     "start_time": "2024-04-16T12:33:00.639244",
     "status": "completed"
    },
    "tags": []
   },
   "source": [
    "Before submitting, run a check to make sure your `test_preds` have the right format."
   ]
  },
  {
   "cell_type": "markdown",
   "id": "b7c1fed5",
   "metadata": {
    "papermill": {
     "duration": 0.009903,
     "end_time": "2024-04-16T12:33:00.669531",
     "exception": false,
     "start_time": "2024-04-16T12:33:00.659628",
     "status": "completed"
    },
    "tags": []
   },
   "source": [
    "# Generate a submission\n",
    "\n",
    "Run the code cell below to generate a CSV file with your predictions that you can use to submit to the competition."
   ]
  },
  {
   "cell_type": "code",
   "execution_count": 10,
   "id": "799511a5",
   "metadata": {
    "execution": {
     "iopub.execute_input": "2024-04-16T12:33:00.692098Z",
     "iopub.status.busy": "2024-04-16T12:33:00.691626Z",
     "iopub.status.idle": "2024-04-16T12:33:00.715479Z",
     "shell.execute_reply": "2024-04-16T12:33:00.714186Z"
    },
    "papermill": {
     "duration": 0.038434,
     "end_time": "2024-04-16T12:33:00.718038",
     "exception": false,
     "start_time": "2024-04-16T12:33:00.679604",
     "status": "completed"
    },
    "tags": []
   },
   "outputs": [
    {
     "name": "stdout",
     "output_type": "stream",
     "text": [
      "Your submission was successfully saved!\n"
     ]
    }
   ],
   "source": [
    "scaled_preds = model(test_X)\n",
    "predictions = min_max_scaler.inverse_transform(scaled_preds.detach().numpy())\n",
    "output = pd.DataFrame({'Id': test_data.Id,\n",
    "                       'SalePrice': predictions.squeeze(-1)})\n",
    "output.to_csv('submission.csv', index=False)\n",
    "print(\"Your submission was successfully saved!\")"
   ]
  },
  {
   "cell_type": "markdown",
   "id": "eab35ea1",
   "metadata": {
    "papermill": {
     "duration": 0.010242,
     "end_time": "2024-04-16T12:33:00.742082",
     "exception": false,
     "start_time": "2024-04-16T12:33:00.731840",
     "status": "completed"
    },
    "tags": []
   },
   "source": [
    "# Submit to the competition\n",
    "\n",
    "To test your results, you'll need to join the competition (if you haven't already).  So open a new window by clicking on **[this link](https://www.kaggle.com/c/home-data-for-ml-course)**.  Then click on the **Join Competition** button.\n",
    "\n",
    "![join competition image](https://storage.googleapis.com/kaggle-media/learn/images/axBzctl.png)\n",
    "\n",
    "Next, follow the instructions below:\n",
    "1. Begin by clicking on the **Save Version** button in the top right corner of the window.  This will generate a pop-up window.  \n",
    "2. Ensure that the **Save and Run All** option is selected, and then click on the **Save** button.\n",
    "3. This generates a window in the bottom left corner of the notebook.  After it has finished running, click on the number to the right of the **Save Version** button.  This pulls up a list of versions on the right of the screen.  Click on the ellipsis **(...)** to the right of the most recent version, and select **Open in Viewer**.  This brings you into view mode of the same page. You will need to scroll down to get back to these instructions.\n",
    "4. Click on the **Data** tab near the top of the screen.  Then, click on the file you would like to submit, and click on the **Submit** button to submit your results to the leaderboard.\n",
    "\n",
    "You have now successfully submitted to the competition!\n",
    "\n",
    "If you want to keep working to improve your performance, select the **Edit** button in the top right of the screen. Then you can change your code and repeat the process. There's a lot of room to improve, and you will climb up the leaderboard as you work.\n",
    "\n",
    "\n",
    "# Continue Your Progress\n",
    "There are many ways to improve your model, and **experimenting is a great way to learn at this point.**\n",
    "\n",
    "The best way to improve your model is to add features.  To add more features to the data, revisit the first code cell, and change this line of code to include more column names:\n",
    "```python\n",
    "features = ['LotArea', 'YearBuilt', '1stFlrSF', '2ndFlrSF', 'FullBath', 'BedroomAbvGr', 'TotRmsAbvGrd']\n",
    "```\n",
    "\n",
    "Some features will cause errors because of issues like missing values or non-numeric data types.  Here is a complete list of potential columns that you might like to use, and that won't throw errors:\n",
    "- 'MSSubClass'\n",
    "- 'LotArea'\n",
    "- 'OverallQual' \n",
    "- 'OverallCond' \n",
    "- 'YearBuilt'\n",
    "- 'YearRemodAdd' \n",
    "- '1stFlrSF'\n",
    "- '2ndFlrSF' \n",
    "- 'LowQualFinSF' \n",
    "- 'GrLivArea'\n",
    "- 'FullBath'\n",
    "- 'HalfBath'\n",
    "- 'BedroomAbvGr' \n",
    "- 'KitchenAbvGr' \n",
    "- 'TotRmsAbvGrd' \n",
    "- 'Fireplaces' \n",
    "- 'WoodDeckSF' \n",
    "- 'OpenPorchSF'\n",
    "- 'EnclosedPorch' \n",
    "- '3SsnPorch' \n",
    "- 'ScreenPorch' \n",
    "- 'PoolArea' \n",
    "- 'MiscVal' \n",
    "- 'MoSold' \n",
    "- 'YrSold'\n",
    "\n",
    "Look at the list of columns and think about what might affect home prices.  To learn more about each of these features, take a look at the data description on the **[competition page](https://www.kaggle.com/c/home-data-for-ml-course/data)**.\n",
    "\n",
    "After updating the code cell above that defines the features, re-run all of the code cells to evaluate the model and generate a new submission file.  \n",
    "\n",
    "\n",
    "# What's next?\n",
    "\n",
    "As mentioned above, some of the features will throw an error if you try to use them to train your model.  The **[Intermediate Machine Learning](https://www.kaggle.com/learn/intermediate-machine-learning)** course will teach you how to handle these types of features. You will also learn to use **xgboost**, a technique giving even better accuracy than Random Forest.\n",
    "\n",
    "The **[Pandas](https://kaggle.com/Learn/Pandas)** course will give you the data manipulation skills to quickly go from conceptual idea to implementation in your data science projects. \n",
    "\n",
    "You are also ready for the **[Deep Learning](https://kaggle.com/Learn/intro-to-Deep-Learning)** course, where you will build models with better-than-human level performance at computer vision tasks."
   ]
  },
  {
   "cell_type": "markdown",
   "id": "c1bcb638",
   "metadata": {
    "papermill": {
     "duration": 0.009678,
     "end_time": "2024-04-16T12:33:00.761740",
     "exception": false,
     "start_time": "2024-04-16T12:33:00.752062",
     "status": "completed"
    },
    "tags": []
   },
   "source": [
    "---\n",
    "\n",
    "\n",
    "\n",
    "\n",
    "*Have questions or comments? Visit the [course discussion forum](https://www.kaggle.com/learn/intro-to-machine-learning/discussion) to chat with other learners.*"
   ]
  }
 ],
 "metadata": {
  "kaggle": {
   "accelerator": "none",
   "dataSources": [
    {
     "databundleVersionId": 111096,
     "sourceId": 10211,
     "sourceType": "competition"
    }
   ],
   "isGpuEnabled": false,
   "isInternetEnabled": false,
   "language": "python",
   "sourceType": "notebook"
  },
  "kernelspec": {
   "display_name": "Python 3",
   "language": "python",
   "name": "python3"
  },
  "language_info": {
   "codemirror_mode": {
    "name": "ipython",
    "version": 3
   },
   "file_extension": ".py",
   "mimetype": "text/x-python",
   "name": "python",
   "nbconvert_exporter": "python",
   "pygments_lexer": "ipython3",
   "version": "3.10.13"
  },
  "papermill": {
   "default_parameters": {},
   "duration": 89.188656,
   "end_time": "2024-04-16T12:33:03.485813",
   "environment_variables": {},
   "exception": null,
   "input_path": "__notebook__.ipynb",
   "output_path": "__notebook__.ipynb",
   "parameters": {},
   "start_time": "2024-04-16T12:31:34.297157",
   "version": "2.5.0"
  }
 },
 "nbformat": 4,
 "nbformat_minor": 5
}
